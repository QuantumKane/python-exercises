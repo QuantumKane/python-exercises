{
 "cells": [
  {
   "cell_type": "code",
   "execution_count": 40,
   "metadata": {},
   "outputs": [
    {
     "data": {
      "text/plain": [
       "True"
      ]
     },
     "execution_count": 40,
     "metadata": {},
     "output_type": "execute_result"
    }
   ],
   "source": [
    "# 1. Define a function named is_two. It should accept one input and return True \n",
    "# if the passed input is either the number or the string 2\n",
    "# signature: anything -> boolean\n",
    "\n",
    "def is_two(number):\n",
    "    if int(number) == 2:\n",
    "        return True\n",
    "    else:\n",
    "        return False\n",
    "\n",
    "#Zach: return x == 2 or x == \"2\" \n",
    "\n",
    "is_two(2)"
   ]
  },
  {
   "cell_type": "code",
   "execution_count": 27,
   "metadata": {},
   "outputs": [
    {
     "data": {
      "text/plain": [
       "False"
      ]
     },
     "execution_count": 27,
     "metadata": {},
     "output_type": "execute_result"
    }
   ],
   "source": [
    "# 2. Define a function named is_vowel. It should return True if the passed \n",
    "# string is a vowel, False otherwise.\n",
    "# signature: string -> boolean\n",
    "\n",
    "def is_vowel(string):\n",
    "    return any(vowel in string.lower() for vowel in 'aeiou')\n",
    "\n",
    "# Zach: return c.lower() in \"aeiou\"\n",
    "\n",
    "is_vowel('rrr')"
   ]
  },
  {
   "cell_type": "code",
   "execution_count": 67,
   "metadata": {},
   "outputs": [
    {
     "ename": "SyntaxError",
     "evalue": "invalid syntax (<ipython-input-67-838f3c8821ac>, line 5)",
     "output_type": "error",
     "traceback": [
      "\u001b[0;36m  File \u001b[0;32m\"<ipython-input-67-838f3c8821ac>\"\u001b[0;36m, line \u001b[0;32m5\u001b[0m\n\u001b[0;31m    return any((letter in string.lower()) for letter not in (is_vowel()))\u001b[0m\n\u001b[0m                                                       ^\u001b[0m\n\u001b[0;31mSyntaxError\u001b[0m\u001b[0;31m:\u001b[0m invalid syntax\n"
     ]
    }
   ],
   "source": [
    "# 3. Define a function named is_consonant. It should return True if the passed string\n",
    "# is a consonant, False otherwise. Use your is_vowel function to accomplish this.\n",
    "# signature: str -> boolean\n",
    "\n",
    "def is_consonant(string):\n",
    "     return any((letter in string.lower()) for letter not in is_vowel())\n",
    "\n",
    "    \n",
    "# Zach: return string.isalpha() and not is_vowel(string)\n",
    "\n",
    "is_consonant('e')"
   ]
  },
  {
   "cell_type": "code",
   "execution_count": null,
   "metadata": {},
   "outputs": [],
   "source": [
    "# 4. Define a function that accepts a string that is a word. The function should \n",
    "# capitalize the first letter of the word if the word starts with a consonant.\n",
    "# signature string -> string\n",
    "\n",
    "def capitalize_consonant(word):\n",
    "    if \n",
    "    return\n",
    "\n",
    "# Zach:  first_letter = word[0]\n",
    "#        if is_consonant(first_letter):\n",
    "#            return word.capitalize()\n",
    "#        else:\n",
    "#            return word\n"
   ]
  },
  {
   "cell_type": "code",
   "execution_count": 68,
   "metadata": {},
   "outputs": [
    {
     "data": {
      "text/plain": [
       "5.0"
      ]
     },
     "execution_count": 68,
     "metadata": {},
     "output_type": "execute_result"
    }
   ],
   "source": [
    "# 5. Define a function named calculate_tip. It should accept a tip percentage \n",
    "# (a number between 0 and 1) and the bill total, and return the amount to tip.\n",
    "# Signature: (percentage: float, bill: float) -> float\n",
    "\n",
    "def calculate_tip(percentage, bill):\n",
    "    tip = float(percentage) * float(bill) \n",
    "    return tip\n",
    "\n",
    "calculate_tip(.2, 25.00)"
   ]
  },
  {
   "cell_type": "code",
   "execution_count": 69,
   "metadata": {},
   "outputs": [
    {
     "data": {
      "text/plain": [
       "22.5"
      ]
     },
     "execution_count": 69,
     "metadata": {},
     "output_type": "execute_result"
    }
   ],
   "source": [
    "# 6. Define a function named apply_discount. It should accept a original price, \n",
    "# and a discount percentage, and return the price after the discount is applied.\n",
    "# Signature: original_price:float -> float\n",
    "\n",
    "def apply_discount(original_price):\n",
    "    discounted_price = float(original_price) * .10\n",
    "    return original_price - discounted_price\n",
    "\n",
    "apply_discount(25.00)"
   ]
  },
  {
   "cell_type": "code",
   "execution_count": 50,
   "metadata": {},
   "outputs": [
    {
     "data": {
      "text/plain": [
       "1000000"
      ]
     },
     "execution_count": 50,
     "metadata": {},
     "output_type": "execute_result"
    }
   ],
   "source": [
    "# 7. Define a function named handle_commas. It should accept a string that is a \n",
    "# number that contains commas in it as input, and return a number as output.\n",
    "# signature: str -> float\n",
    "\n",
    "def handle_commas(input):\n",
    "    input = input.replace(',', '')\n",
    "    return int(input)\n",
    "\n",
    "# Zach: float(s.replace(',', ''))\n",
    "\n",
    "handle_commas('1,000,000')"
   ]
  },
  {
   "cell_type": "code",
   "execution_count": 70,
   "metadata": {},
   "outputs": [
    {
     "data": {
      "text/plain": [
       "'A'"
      ]
     },
     "execution_count": 70,
     "metadata": {},
     "output_type": "execute_result"
    }
   ],
   "source": [
    "# 8. Define a function named Define a function named get_letter_grade. It should \n",
    "# accept a number and return the letter grade associated with that number (A-F).\n",
    "# signature: grade:float -> str\n",
    "\n",
    "def get_letter_grade(numeric_grade):\n",
    "    \n",
    "        if numeric_grade >= 90:\n",
    "            return(\"A\")\n",
    "        elif numeric_grade >= 80:\n",
    "            return(\"B\")\n",
    "        elif numeric_grade >= 70:\n",
    "            return(\"C\")\n",
    "        elif numeric_grade >= 60:\n",
    "            return(\"D\")\n",
    "        else: \n",
    "            return(\"F\")\n",
    "\n",
    "get_letter_grade(94)"
   ]
  },
  {
   "cell_type": "code",
   "execution_count": 26,
   "metadata": {},
   "outputs": [
    {
     "data": {
      "text/plain": [
       "'cptl'"
      ]
     },
     "execution_count": 26,
     "metadata": {},
     "output_type": "execute_result"
    }
   ],
   "source": [
    "# 9. Define a function named remove_vowels that accepts a string and returns a \n",
    "# string with all the vowels removed.\n",
    "# signature: str -> str\n",
    "\n",
    "def remove_vowels(string):\n",
    "    vowels = 'aeiouAEIOU'\n",
    "    return \"\".join([letter for letter in string if letter not in vowels])\n",
    "\n",
    "# Zach:  new_string = []\n",
    "#        for character in string:\n",
    "#            if not is_vowel(character):\n",
    "#                new_string.append(character)\n",
    "#        return \"\".join(new_string)\n",
    "\n",
    "remove_vowels('capital')"
   ]
  },
  {
   "cell_type": "code",
   "execution_count": 2,
   "metadata": {},
   "outputs": [
    {
     "data": {
      "text/plain": [
       "'steve_kane'"
      ]
     },
     "execution_count": 2,
     "metadata": {},
     "output_type": "execute_result"
    }
   ],
   "source": [
    "# 10. Define a function named normalize_name. It should accept a string and return a \n",
    "# valid python identifier, that is:\n",
    "# - anything that is not a valid python identifier should be removed\n",
    "# - leading and trailing whitespace should be removed\n",
    "# - everything should be lowercase\n",
    "# - spaces should be replaced with underscores\n",
    "# Signature: str -> str \n",
    "\n",
    "def normalize_name(name):\n",
    "    \n",
    "    name = name.strip()\n",
    "    name = name.lower()\n",
    "    name = name.replace(' ', '_')\n",
    "    \n",
    "    if name.isidentifier() == True:\n",
    "        return name\n",
    "\n",
    "# Zach:  valid_identifier = []\n",
    "#        for character in s:\n",
    "#            if character.isidentifier() or character == ' ':\n",
    "#                valid_identifier.append(character)\n",
    "#        valid_identifier = \"\".join(valid_identifier)\n",
    "#        valid_identifier = valid_identifier.lower()\n",
    "#        valid_identifier = valid_identifier.strip()\n",
    "#        valid_identifier = valid_identifier.replace(' ', '_')\n",
    "#        return(valid_identifier)\n",
    "        \n",
    "    \n",
    "normalize_name('STeve Kane   ')"
   ]
  },
  {
   "cell_type": "code",
   "execution_count": 4,
   "metadata": {},
   "outputs": [
    {
     "data": {
      "text/plain": [
       "[1, 3, 6, 10, 15]"
      ]
     },
     "execution_count": 4,
     "metadata": {},
     "output_type": "execute_result"
    }
   ],
   "source": [
    "# 11. Write a function named cumulative_sum that accepts a list of numbers and returns \n",
    "# a list that is the cumulative sum of the numbers in the list.\n",
    "# signature: list -> list\n",
    "\n",
    "def cumulative_sum(list):\n",
    "    \n",
    "    sum = [list[0]]\n",
    "    \n",
    "    for n in list [1:]:\n",
    "        prev_total = sum[-1]\n",
    "        sum.append(prev_total + n)\n",
    "    return sum\n",
    "\n",
    "cumulative_sum([1, 2, 3, 4, 5])"
   ]
  },
  {
   "cell_type": "code",
   "execution_count": null,
   "metadata": {},
   "outputs": [],
   "source": []
  }
 ],
 "metadata": {
  "kernelspec": {
   "display_name": "Python 3",
   "language": "python",
   "name": "python3"
  },
  "language_info": {
   "codemirror_mode": {
    "name": "ipython",
    "version": 3
   },
   "file_extension": ".py",
   "mimetype": "text/x-python",
   "name": "python",
   "nbconvert_exporter": "python",
   "pygments_lexer": "ipython3",
   "version": "3.7.4"
  }
 },
 "nbformat": 4,
 "nbformat_minor": 4
}
